{
 "cells": [
  {
   "cell_type": "markdown",
   "metadata": {},
   "source": [
    "# 1. Import libraries"
   ]
  },
  {
   "cell_type": "code",
   "execution_count": 421,
   "metadata": {},
   "outputs": [],
   "source": [
    "\n",
    "# Source: https://machinelearningmastery.com/multivariate-time-series-forecasting-lstms-keras/\n",
    "\n",
    "from math import sqrt\n",
    "from numpy import concatenate\n",
    "import matplotlib.pyplot as plt\n",
    "from pandas import read_csv\n",
    "from pandas import DataFrame\n",
    "from pandas import concat\n",
    "from sklearn.preprocessing import MinMaxScaler\n",
    "from sklearn.preprocessing import LabelEncoder\n",
    "from sklearn.metrics import mean_squared_error\n",
    "from keras.models import Sequential\n",
    "from keras.layers import Dense\n",
    "from keras.layers import LSTM\n",
    "import pandas as pd\n"
   ]
  },
  {
   "cell_type": "markdown",
   "metadata": {},
   "source": [
    "# 2. Function for converting series to supervised learning "
   ]
  },
  {
   "cell_type": "code",
   "execution_count": 422,
   "metadata": {},
   "outputs": [],
   "source": [
    " \n",
    "# convert series to supervised learning\n",
    "def series_to_supervised(data, n_in=1, n_out=1, dropnan=True):\n",
    "    n_vars = 1 if type(data) is list else data.shape[1]\n",
    "    df = DataFrame(data)\n",
    "    cols, names = list(), list()\n",
    "    # input sequence (t-n, ... t-1)\n",
    "    for i in range(n_in, 0, -1):\n",
    "        cols.append(df.shift(i))\n",
    "        names += [('var%d(t-%d)' % (j+1, i)) for j in range(n_vars)]\n",
    "    # forecast sequence (t, t+1, ... t+n)\n",
    "    for i in range(0, n_out):\n",
    "        cols.append(df.shift(-i))\n",
    "        if i == 0:\n",
    "            names += [('var%d(t)' % (j+1)) for j in range(n_vars)]\n",
    "        else:\n",
    "            names += [('var%d(t+%d)' % (j+1, i)) for j in range(n_vars)]\n",
    "    # put it all together\n",
    "    agg = concat(cols, axis=1)\n",
    "    agg.columns = names\n",
    "    # drop rows with NaN values\n",
    "    if dropnan:\n",
    "        agg.dropna(inplace=True)\n",
    "    return agg\n"
   ]
  },
  {
   "cell_type": "markdown",
   "metadata": {},
   "source": [
    "# 3. Load the data "
   ]
  },
  {
   "cell_type": "code",
   "execution_count": 185,
   "metadata": {
    "scrolled": true
   },
   "outputs": [],
   "source": [
    "#Load the data and data already got scaled and splited \n",
    "x_train_scaled_data=pd.read_csv('X_train_scaled_data.csv')\n",
    "x_test_scaled_data=pd.read_csv('X_test_scaled_data.csv')\n",
    "y_train_scaled_data=pd.read_csv('Y_train_scaled_data.csv')\n",
    "y_test_scaled_data=pd.read_csv('Y_test_scaled_data.csv')"
   ]
  },
  {
   "cell_type": "code",
   "execution_count": 186,
   "metadata": {
    "scrolled": false
   },
   "outputs": [],
   "source": [
    "# declare train and test data \n",
    "x_train = x_train_scaled_data\n",
    "x_test = x_test_scaled_data\n",
    "y_train=y_train_scaled_data\n",
    "y_test=y_test_scaled_data"
   ]
  },
  {
   "cell_type": "code",
   "execution_count": 187,
   "metadata": {
    "code_folding": []
   },
   "outputs": [
    {
     "name": "stdout",
     "output_type": "stream",
     "text": [
      "(336612, 13) (336612, 3) (84156, 13) (84156, 3)\n"
     ]
    }
   ],
   "source": [
    "# check the size of each dataset\n",
    "print(x_train.shape, y_train.shape, x_test.shape, y_test.shape)"
   ]
  },
  {
   "cell_type": "code",
   "execution_count": 192,
   "metadata": {},
   "outputs": [
    {
     "data": {
      "text/html": [
       "<div>\n",
       "<style scoped>\n",
       "    .dataframe tbody tr th:only-of-type {\n",
       "        vertical-align: middle;\n",
       "    }\n",
       "\n",
       "    .dataframe tbody tr th {\n",
       "        vertical-align: top;\n",
       "    }\n",
       "\n",
       "    .dataframe thead th {\n",
       "        text-align: right;\n",
       "    }\n",
       "</style>\n",
       "<table border=\"1\" class=\"dataframe\">\n",
       "  <thead>\n",
       "    <tr style=\"text-align: right;\">\n",
       "      <th></th>\n",
       "      <th>station</th>\n",
       "      <th>date</th>\n",
       "      <th>year</th>\n",
       "      <th>month</th>\n",
       "      <th>SO2</th>\n",
       "      <th>NO2</th>\n",
       "      <th>CO</th>\n",
       "      <th>O3</th>\n",
       "      <th>TEMP</th>\n",
       "      <th>PRES</th>\n",
       "      <th>DEWP</th>\n",
       "      <th>RAIN</th>\n",
       "      <th>WSPM</th>\n",
       "      <th>PM2.5</th>\n",
       "    </tr>\n",
       "  </thead>\n",
       "  <tbody>\n",
       "    <tr>\n",
       "      <td>0</td>\n",
       "      <td>Aotizhongxin</td>\n",
       "      <td>2013-03-01 00:00:00</td>\n",
       "      <td>2013</td>\n",
       "      <td>3</td>\n",
       "      <td>0.007433</td>\n",
       "      <td>0.020671</td>\n",
       "      <td>0.020202</td>\n",
       "      <td>0.071710</td>\n",
       "      <td>0.312195</td>\n",
       "      <td>0.672185</td>\n",
       "      <td>0.339310</td>\n",
       "      <td>0.0</td>\n",
       "      <td>0.333333</td>\n",
       "      <td>4.0</td>\n",
       "    </tr>\n",
       "    <tr>\n",
       "      <td>1</td>\n",
       "      <td>Aotizhongxin</td>\n",
       "      <td>2013-03-01 01:00:00</td>\n",
       "      <td>2013</td>\n",
       "      <td>3</td>\n",
       "      <td>0.007433</td>\n",
       "      <td>0.020671</td>\n",
       "      <td>0.020202</td>\n",
       "      <td>0.071710</td>\n",
       "      <td>0.305691</td>\n",
       "      <td>0.675497</td>\n",
       "      <td>0.347586</td>\n",
       "      <td>0.0</td>\n",
       "      <td>0.356061</td>\n",
       "      <td>8.0</td>\n",
       "    </tr>\n",
       "    <tr>\n",
       "      <td>2</td>\n",
       "      <td>Aotizhongxin</td>\n",
       "      <td>2013-03-01 02:00:00</td>\n",
       "      <td>2013</td>\n",
       "      <td>3</td>\n",
       "      <td>0.009434</td>\n",
       "      <td>0.031053</td>\n",
       "      <td>0.020202</td>\n",
       "      <td>0.067974</td>\n",
       "      <td>0.305691</td>\n",
       "      <td>0.680464</td>\n",
       "      <td>0.347586</td>\n",
       "      <td>0.0</td>\n",
       "      <td>0.424242</td>\n",
       "      <td>7.0</td>\n",
       "    </tr>\n",
       "    <tr>\n",
       "      <td>3</td>\n",
       "      <td>Aotizhongxin</td>\n",
       "      <td>2013-03-01 03:00:00</td>\n",
       "      <td>2013</td>\n",
       "      <td>3</td>\n",
       "      <td>0.021441</td>\n",
       "      <td>0.034514</td>\n",
       "      <td>0.020202</td>\n",
       "      <td>0.067040</td>\n",
       "      <td>0.300813</td>\n",
       "      <td>0.697020</td>\n",
       "      <td>0.331034</td>\n",
       "      <td>0.0</td>\n",
       "      <td>0.234848</td>\n",
       "      <td>6.0</td>\n",
       "    </tr>\n",
       "    <tr>\n",
       "      <td>4</td>\n",
       "      <td>Aotizhongxin</td>\n",
       "      <td>2013-03-01 04:00:00</td>\n",
       "      <td>2013</td>\n",
       "      <td>3</td>\n",
       "      <td>0.023442</td>\n",
       "      <td>0.037974</td>\n",
       "      <td>0.020202</td>\n",
       "      <td>0.067040</td>\n",
       "      <td>0.291057</td>\n",
       "      <td>0.708609</td>\n",
       "      <td>0.329655</td>\n",
       "      <td>0.0</td>\n",
       "      <td>0.151515</td>\n",
       "      <td>3.0</td>\n",
       "    </tr>\n",
       "  </tbody>\n",
       "</table>\n",
       "</div>"
      ],
      "text/plain": [
       "        station                 date  year  month       SO2       NO2  \\\n",
       "0  Aotizhongxin  2013-03-01 00:00:00  2013      3  0.007433  0.020671   \n",
       "1  Aotizhongxin  2013-03-01 01:00:00  2013      3  0.007433  0.020671   \n",
       "2  Aotizhongxin  2013-03-01 02:00:00  2013      3  0.009434  0.031053   \n",
       "3  Aotizhongxin  2013-03-01 03:00:00  2013      3  0.021441  0.034514   \n",
       "4  Aotizhongxin  2013-03-01 04:00:00  2013      3  0.023442  0.037974   \n",
       "\n",
       "         CO        O3      TEMP      PRES      DEWP  RAIN      WSPM  PM2.5  \n",
       "0  0.020202  0.071710  0.312195  0.672185  0.339310   0.0  0.333333    4.0  \n",
       "1  0.020202  0.071710  0.305691  0.675497  0.347586   0.0  0.356061    8.0  \n",
       "2  0.020202  0.067974  0.305691  0.680464  0.347586   0.0  0.424242    7.0  \n",
       "3  0.020202  0.067040  0.300813  0.697020  0.331034   0.0  0.234848    6.0  \n",
       "4  0.020202  0.067040  0.291057  0.708609  0.329655   0.0  0.151515    3.0  "
      ]
     },
     "execution_count": 192,
     "metadata": {},
     "output_type": "execute_result"
    }
   ],
   "source": [
    "#combine x train and y train as train data \n",
    "train_data=pd.DataFrame()\n",
    "train_data[x_train.columns]=x_train\n",
    "train_data[y_train.columns]=y_train\n",
    "train_data.head()"
   ]
  },
  {
   "cell_type": "code",
   "execution_count": 193,
   "metadata": {
    "scrolled": false
   },
   "outputs": [
    {
     "data": {
      "text/html": [
       "<div>\n",
       "<style scoped>\n",
       "    .dataframe tbody tr th:only-of-type {\n",
       "        vertical-align: middle;\n",
       "    }\n",
       "\n",
       "    .dataframe tbody tr th {\n",
       "        vertical-align: top;\n",
       "    }\n",
       "\n",
       "    .dataframe thead th {\n",
       "        text-align: right;\n",
       "    }\n",
       "</style>\n",
       "<table border=\"1\" class=\"dataframe\">\n",
       "  <thead>\n",
       "    <tr style=\"text-align: right;\">\n",
       "      <th></th>\n",
       "      <th>station</th>\n",
       "      <th>date</th>\n",
       "      <th>year</th>\n",
       "      <th>month</th>\n",
       "      <th>SO2</th>\n",
       "      <th>NO2</th>\n",
       "      <th>CO</th>\n",
       "      <th>O3</th>\n",
       "      <th>TEMP</th>\n",
       "      <th>PRES</th>\n",
       "      <th>DEWP</th>\n",
       "      <th>RAIN</th>\n",
       "      <th>WSPM</th>\n",
       "      <th>PM2.5</th>\n",
       "    </tr>\n",
       "  </thead>\n",
       "  <tbody>\n",
       "    <tr>\n",
       "      <td>0</td>\n",
       "      <td>Aotizhongxin</td>\n",
       "      <td>2016-05-12 19:00:00</td>\n",
       "      <td>2016</td>\n",
       "      <td>5</td>\n",
       "      <td>0.003431</td>\n",
       "      <td>0.058737</td>\n",
       "      <td>0.020202</td>\n",
       "      <td>0.082916</td>\n",
       "      <td>0.653659</td>\n",
       "      <td>0.485099</td>\n",
       "      <td>0.521379</td>\n",
       "      <td>0.0</td>\n",
       "      <td>0.166667</td>\n",
       "      <td>10.0</td>\n",
       "    </tr>\n",
       "    <tr>\n",
       "      <td>1</td>\n",
       "      <td>Aotizhongxin</td>\n",
       "      <td>2016-05-12 20:00:00</td>\n",
       "      <td>2016</td>\n",
       "      <td>5</td>\n",
       "      <td>0.003431</td>\n",
       "      <td>0.100264</td>\n",
       "      <td>0.030303</td>\n",
       "      <td>0.061437</td>\n",
       "      <td>0.606504</td>\n",
       "      <td>0.500000</td>\n",
       "      <td>0.600000</td>\n",
       "      <td>0.0</td>\n",
       "      <td>0.045455</td>\n",
       "      <td>26.0</td>\n",
       "    </tr>\n",
       "    <tr>\n",
       "      <td>2</td>\n",
       "      <td>Aotizhongxin</td>\n",
       "      <td>2016-05-12 21:00:00</td>\n",
       "      <td>2016</td>\n",
       "      <td>5</td>\n",
       "      <td>0.003431</td>\n",
       "      <td>0.159092</td>\n",
       "      <td>0.040404</td>\n",
       "      <td>0.031552</td>\n",
       "      <td>0.562602</td>\n",
       "      <td>0.519868</td>\n",
       "      <td>0.620690</td>\n",
       "      <td>0.0</td>\n",
       "      <td>0.037879</td>\n",
       "      <td>11.0</td>\n",
       "    </tr>\n",
       "    <tr>\n",
       "      <td>3</td>\n",
       "      <td>Aotizhongxin</td>\n",
       "      <td>2016-05-12 22:00:00</td>\n",
       "      <td>2016</td>\n",
       "      <td>5</td>\n",
       "      <td>0.005432</td>\n",
       "      <td>0.214461</td>\n",
       "      <td>0.070707</td>\n",
       "      <td>0.001668</td>\n",
       "      <td>0.531707</td>\n",
       "      <td>0.529801</td>\n",
       "      <td>0.634483</td>\n",
       "      <td>0.0</td>\n",
       "      <td>0.000000</td>\n",
       "      <td>22.0</td>\n",
       "    </tr>\n",
       "    <tr>\n",
       "      <td>4</td>\n",
       "      <td>Aotizhongxin</td>\n",
       "      <td>2016-05-12 23:00:00</td>\n",
       "      <td>2016</td>\n",
       "      <td>5</td>\n",
       "      <td>0.005432</td>\n",
       "      <td>0.204079</td>\n",
       "      <td>0.070707</td>\n",
       "      <td>0.001668</td>\n",
       "      <td>0.505691</td>\n",
       "      <td>0.533113</td>\n",
       "      <td>0.662069</td>\n",
       "      <td>0.0</td>\n",
       "      <td>0.030303</td>\n",
       "      <td>31.0</td>\n",
       "    </tr>\n",
       "  </tbody>\n",
       "</table>\n",
       "</div>"
      ],
      "text/plain": [
       "        station                 date  year  month       SO2       NO2  \\\n",
       "0  Aotizhongxin  2016-05-12 19:00:00  2016      5  0.003431  0.058737   \n",
       "1  Aotizhongxin  2016-05-12 20:00:00  2016      5  0.003431  0.100264   \n",
       "2  Aotizhongxin  2016-05-12 21:00:00  2016      5  0.003431  0.159092   \n",
       "3  Aotizhongxin  2016-05-12 22:00:00  2016      5  0.005432  0.214461   \n",
       "4  Aotizhongxin  2016-05-12 23:00:00  2016      5  0.005432  0.204079   \n",
       "\n",
       "         CO        O3      TEMP      PRES      DEWP  RAIN      WSPM  PM2.5  \n",
       "0  0.020202  0.082916  0.653659  0.485099  0.521379   0.0  0.166667   10.0  \n",
       "1  0.030303  0.061437  0.606504  0.500000  0.600000   0.0  0.045455   26.0  \n",
       "2  0.040404  0.031552  0.562602  0.519868  0.620690   0.0  0.037879   11.0  \n",
       "3  0.070707  0.001668  0.531707  0.529801  0.634483   0.0  0.000000   22.0  \n",
       "4  0.070707  0.001668  0.505691  0.533113  0.662069   0.0  0.030303   31.0  "
      ]
     },
     "execution_count": 193,
     "metadata": {},
     "output_type": "execute_result"
    }
   ],
   "source": [
    "#combine x test and y test as test data \n",
    "test_data=pd.DataFrame()\n",
    "test_data[x_test.columns]=x_test\n",
    "test_data[y_test.columns]=y_test\n",
    "test_data.head()"
   ]
  },
  {
   "cell_type": "code",
   "execution_count": 425,
   "metadata": {},
   "outputs": [],
   "source": [
    "# all stations name\n",
    "stations=['Shunyi',\n",
    " 'Tiantan',\n",
    " 'Huairou',\n",
    " 'Dongsi',\n",
    " 'Guanyuan',\n",
    " 'Changping',\n",
    " 'Nongzhanguan',\n",
    " 'Aotizhongxin',\n",
    " 'Gucheng',\n",
    " 'Wanshouxigong',\n",
    " 'Dingling',\n",
    " 'Wanliu']"
   ]
  },
  {
   "cell_type": "code",
   "execution_count": 405,
   "metadata": {},
   "outputs": [],
   "source": [
    "# if we don't want to run this 12 times then just use train_data and test_data\n",
    "# new_train_data=train_data.drop(columns=['station', 'date', 'year', 'month'])\n",
    "# new_test_data=test_data.drop(columns=['station', 'date', 'year', 'month'])"
   ]
  },
  {
   "cell_type": "code",
   "execution_count": 359,
   "metadata": {},
   "outputs": [],
   "source": [
    "# to run each stations data \n",
    "train_df=train_data[train_data['station']==stations[11]].drop(columns=['station', 'date', 'year', 'month'])\n",
    "test_df=test_data[test_data['station']==stations[11]].drop(columns=['station', 'date', 'year', 'month'])"
   ]
  },
  {
   "cell_type": "code",
   "execution_count": 406,
   "metadata": {
    "scrolled": true
   },
   "outputs": [],
   "source": [
    "#Frame as supervised learning and drop all time t columns except PM2.5\n",
    "reframed_train = series_to_supervised(new_train_data, 1, 1)\n",
    "reframed_test = series_to_supervised(new_test_data, 1, 1)\n"
   ]
  },
  {
   "cell_type": "code",
   "execution_count": 407,
   "metadata": {},
   "outputs": [
    {
     "data": {
      "text/plain": [
       "(336611, 84155)"
      ]
     },
     "execution_count": 407,
     "metadata": {},
     "output_type": "execute_result"
    }
   ],
   "source": [
    "#check the length of each dataset\n",
    "len(reframed_train),len(reframed_test)"
   ]
  },
  {
   "cell_type": "code",
   "execution_count": 408,
   "metadata": {},
   "outputs": [],
   "source": [
    "# split into train and test sets\n",
    "train= reframed_train.values\n",
    "test=reframed_test.values"
   ]
  },
  {
   "cell_type": "code",
   "execution_count": 409,
   "metadata": {},
   "outputs": [],
   "source": [
    "# split into input and outputs\n",
    "train_X, train_y = train[:, :-1], train[:, -1]\n",
    "test_X, test_y = test[:, :-1], test[:, -1]"
   ]
  },
  {
   "cell_type": "code",
   "execution_count": 410,
   "metadata": {},
   "outputs": [],
   "source": [
    "# reshape input to be 3D [samples, timesteps, features]\n",
    "train_X = train_X.reshape((train_X.shape[0], 1, train_X.shape[1]))\n",
    "test_X = test_X.reshape((test_X.shape[0], 1, test_X.shape[1]))\n"
   ]
  },
  {
   "cell_type": "code",
   "execution_count": 411,
   "metadata": {},
   "outputs": [],
   "source": [
    "# design network\n",
    "model = Sequential()\n",
    "model.add(LSTM(50, input_shape=(train_X.shape[1], train_X.shape[2])))\n",
    "model.add(Dense(1))\n",
    "model.compile(loss='mean_squared_error', optimizer='adam')"
   ]
  },
  {
   "cell_type": "code",
   "execution_count": 412,
   "metadata": {},
   "outputs": [
    {
     "name": "stdout",
     "output_type": "stream",
     "text": [
      "Train on 336611 samples, validate on 84155 samples\n",
      "Epoch 1/50\n",
      " - 12s - loss: 6349.9601 - val_loss: 3841.8079\n",
      "Epoch 2/50\n",
      " - 12s - loss: 2419.8713 - val_loss: 2040.9290\n",
      "Epoch 3/50\n",
      " - 13s - loss: 1328.7501 - val_loss: 1305.8967\n",
      "Epoch 4/50\n",
      " - 12s - loss: 882.2083 - val_loss: 934.1130\n",
      "Epoch 5/50\n",
      " - 15s - loss: 670.0581 - val_loss: 732.6496\n",
      "Epoch 6/50\n",
      " - 12s - loss: 573.6959 - val_loss: 654.6700\n",
      "Epoch 7/50\n",
      " - 12s - loss: 530.0843 - val_loss: 599.9107\n",
      "Epoch 8/50\n",
      " - 11s - loss: 521.7684 - val_loss: 570.5078\n",
      "Epoch 9/50\n",
      " - 11s - loss: 539.1897 - val_loss: 584.6730\n",
      "Epoch 10/50\n",
      " - 11s - loss: 476.4948 - val_loss: 553.1531\n",
      "Epoch 11/50\n",
      " - 11s - loss: 438.2188 - val_loss: 496.4796\n",
      "Epoch 12/50\n",
      " - 12s - loss: 442.0585 - val_loss: 512.8734\n",
      "Epoch 13/50\n",
      " - 11s - loss: 430.6969 - val_loss: 535.3131\n",
      "Epoch 14/50\n",
      " - 11s - loss: 429.4755 - val_loss: 450.4784\n",
      "Epoch 15/50\n",
      " - 11s - loss: 422.4406 - val_loss: 462.6156\n",
      "Epoch 16/50\n",
      " - 10s - loss: 391.7432 - val_loss: 393.9675\n",
      "Epoch 17/50\n",
      " - 11s - loss: 396.7006 - val_loss: 478.5180\n",
      "Epoch 18/50\n",
      " - 10s - loss: 393.6072 - val_loss: 441.3991\n",
      "Epoch 19/50\n",
      " - 10s - loss: 386.8677 - val_loss: 393.4668\n",
      "Epoch 20/50\n",
      " - 11s - loss: 399.5860 - val_loss: 437.0866\n",
      "Epoch 21/50\n",
      " - 11s - loss: 380.2613 - val_loss: 408.9328\n",
      "Epoch 22/50\n",
      " - 11s - loss: 381.5112 - val_loss: 428.4408\n",
      "Epoch 23/50\n",
      " - 11s - loss: 370.4490 - val_loss: 389.1737\n",
      "Epoch 24/50\n",
      " - 11s - loss: 360.7152 - val_loss: 356.7796\n",
      "Epoch 25/50\n",
      " - 11s - loss: 358.2320 - val_loss: 410.0845\n",
      "Epoch 26/50\n",
      " - 11s - loss: 357.5066 - val_loss: 362.3882\n",
      "Epoch 27/50\n",
      " - 11s - loss: 349.0210 - val_loss: 345.2080\n",
      "Epoch 28/50\n",
      " - 11s - loss: 357.8660 - val_loss: 538.5402\n",
      "Epoch 29/50\n",
      " - 11s - loss: 348.9906 - val_loss: 353.6162\n",
      "Epoch 30/50\n",
      " - 11s - loss: 357.5829 - val_loss: 364.6371\n",
      "Epoch 31/50\n",
      " - 11s - loss: 354.5404 - val_loss: 330.6254\n",
      "Epoch 32/50\n",
      " - 11s - loss: 331.1725 - val_loss: 364.2268\n",
      "Epoch 33/50\n",
      " - 11s - loss: 329.1119 - val_loss: 318.5133\n",
      "Epoch 34/50\n",
      " - 11s - loss: 338.3417 - val_loss: 347.8761\n",
      "Epoch 35/50\n",
      " - 11s - loss: 330.4821 - val_loss: 379.0640\n",
      "Epoch 36/50\n",
      " - 11s - loss: 331.8289 - val_loss: 359.5656\n",
      "Epoch 37/50\n",
      " - 11s - loss: 333.1374 - val_loss: 387.6729\n",
      "Epoch 38/50\n",
      " - 12s - loss: 319.5102 - val_loss: 354.3647\n",
      "Epoch 39/50\n",
      " - 11s - loss: 326.1350 - val_loss: 330.1181\n",
      "Epoch 40/50\n",
      " - 11s - loss: 327.4335 - val_loss: 313.4125\n",
      "Epoch 41/50\n",
      " - 11s - loss: 325.5683 - val_loss: 335.3287\n",
      "Epoch 42/50\n",
      " - 11s - loss: 324.3374 - val_loss: 356.3096\n",
      "Epoch 43/50\n",
      " - 10s - loss: 320.4892 - val_loss: 340.7333\n",
      "Epoch 44/50\n",
      " - 11s - loss: 314.2169 - val_loss: 308.8648\n",
      "Epoch 45/50\n",
      " - 11s - loss: 317.3489 - val_loss: 356.8745\n",
      "Epoch 46/50\n",
      " - 11s - loss: 317.1198 - val_loss: 304.4445\n",
      "Epoch 47/50\n",
      " - 11s - loss: 320.1823 - val_loss: 355.4952\n",
      "Epoch 48/50\n",
      " - 11s - loss: 329.1357 - val_loss: 339.5239\n",
      "Epoch 49/50\n",
      " - 11s - loss: 326.0508 - val_loss: 369.1452\n",
      "Epoch 50/50\n",
      " - 11s - loss: 318.1880 - val_loss: 320.6637\n"
     ]
    }
   ],
   "source": [
    "# fit network\n",
    "history = model.fit(train_X, train_y, epochs=50, batch_size=72, validation_data=(test_X, test_y), verbose=2, shuffle=False)"
   ]
  },
  {
   "cell_type": "code",
   "execution_count": 413,
   "metadata": {},
   "outputs": [
    {
     "data": {
      "image/png": "[encoded data removed]",
      "text/plain": [
       "<Figure size 432x288 with 1 Axes>"
      ]
     },
     "metadata": {
      "needs_background": "light"
     },
     "output_type": "display_data"
    }
   ],
   "source": [
    "\n",
    "# plot history\n",
    "pyplot.plot(history.history['loss'], label='train')\n",
    "pyplot.plot(history.history['val_loss'], label='test')\n",
    "pyplot.legend()\n",
    "pyplot.show()\n",
    " \n"
   ]
  },
  {
   "cell_type": "code",
   "execution_count": 414,
   "metadata": {},
   "outputs": [],
   "source": [
    "# Predictions\n",
    "yhat = model.predict(test_X)\n",
    "test_X = test_X.reshape((test_X.shape[0], test_X.shape[2]))\n"
   ]
  },
  {
   "cell_type": "code",
   "execution_count": 415,
   "metadata": {},
   "outputs": [],
   "source": [
    "import numpy as np"
   ]
  },
  {
   "cell_type": "code",
   "execution_count": 416,
   "metadata": {},
   "outputs": [
    {
     "name": "stdout",
     "output_type": "stream",
     "text": [
      "Test RMSE: 17.907\n"
     ]
    }
   ],
   "source": [
    "rmse = sqrt(mean_squared_error(test_y, yhat))\n",
    "print('Test RMSE: %.3f' % rmse)"
   ]
  },
  {
   "cell_type": "code",
   "execution_count": 417,
   "metadata": {},
   "outputs": [
    {
     "name": "stdout",
     "output_type": "stream",
     "text": [
      "rmse of station Shunyi : 31.997\n",
      "rmse of station Tiantan : 29.581\n",
      "rmse of station Huairou : 22.482\n",
      "rmse of station Dongsi : 34.625\n",
      "rmse of station Guanyuan : 30.233\n",
      "rmse of station Changping : 25.391\n",
      "rmse of station Nongzhanguan : 30.0\n",
      "rmse of station Aotizhongxin : 28.559\n",
      "rmse of station Gucheng : 36.826\n",
      "rmse of station Wanshouxigong : 36.191\n",
      "rmse of station Dingling : 22.238\n",
      "rmse of station Wanliu : 27.626\n"
     ]
    }
   ],
   "source": [
    "# After run 12 times for 12 different stations,\n",
    "#we got the list of rmse for each station\n",
    "RMSE=[31.997, 29.581, 22.482, 34.625, 30.233, 25.391,\n",
    "      30.000, 28.559, 36.826, 36.191, 22.238, 27.626]\n",
    "for i in range(len(stations)):\n",
    "    print( 'rmse of station {} : {}'.format(stations[i],RMSE[i]))"
   ]
  },
  {
   "cell_type": "code",
   "execution_count": 418,
   "metadata": {},
   "outputs": [
    {
     "data": {
      "text/plain": [
       "29.645749999999996"
      ]
     },
     "execution_count": 418,
     "metadata": {},
     "output_type": "execute_result"
    }
   ],
   "source": [
    "# mean of RMSE above\n",
    "RMSE_mean=np.mean(RMSE)\n",
    "RMSE_mean"
   ]
  },
  {
   "cell_type": "code",
   "execution_count": 419,
   "metadata": {},
   "outputs": [],
   "source": [
    "# if we don't speparate the data based on different stations and we got the total_rmse\n",
    "total_rmse=17.907"
   ]
  }
 ],
 "metadata": {
  "kernelspec": {
   "display_name": "Python 3",
   "language": "python",
   "name": "python3"
  },
  "language_info": {
   "codemirror_mode": {
    "name": "ipython",
    "version": 3
   },
   "file_extension": ".py",
   "mimetype": "text/x-python",
   "name": "python",
   "nbconvert_exporter": "python",
   "pygments_lexer": "ipython3",
   "version": "3.7.4"
  },
  "toc": {
   "base_numbering": 1,
   "nav_menu": {},
   "number_sections": true,
   "sideBar": true,
   "skip_h1_title": false,
   "title_cell": "Table of Contents",
   "title_sidebar": "Contents",
   "toc_cell": false,
   "toc_position": {
    "height": "calc(100% - 180px)",
    "left": "10px",
    "top": "150px",
    "width": "232.727px"
   },
   "toc_section_display": true,
   "toc_window_display": false
  }
 },
 "nbformat": 4,
 "nbformat_minor": 2
}
